{
 "cells": [
  {
   "cell_type": "code",
   "execution_count": 74,
   "metadata": {},
   "outputs": [
    {
     "data": {
      "text/plain": [
       "               _                           \n",
       "platform       x86_64-apple-darwin17.0     \n",
       "arch           x86_64                      \n",
       "os             darwin17.0                  \n",
       "system         x86_64, darwin17.0          \n",
       "status                                     \n",
       "major          4                           \n",
       "minor          0.0                         \n",
       "year           2020                        \n",
       "month          04                          \n",
       "day            24                          \n",
       "svn rev        78286                       \n",
       "language       R                           \n",
       "version.string R version 4.0.0 (2020-04-24)\n",
       "nickname       Arbor Day                   "
      ]
     },
     "metadata": {},
     "output_type": "display_data"
    }
   ],
   "source": [
    "R.version"
   ]
  },
  {
   "cell_type": "markdown",
   "metadata": {},
   "source": [
    "# Statistical tests\n",
    "In this notebook, we will perform various statistical tests on data from INEGI"
   ]
  },
  {
   "cell_type": "markdown",
   "metadata": {},
   "source": [
    "We start by loading our data into a dataframe"
   ]
  },
  {
   "cell_type": "code",
   "execution_count": 1,
   "metadata": {},
   "outputs": [],
   "source": [
    "df <- read.csv(file=\"pasajeros_metrocdmx.csv\")"
   ]
  },
  {
   "cell_type": "markdown",
   "metadata": {},
   "source": [
    "df2 <- df[c(1,4,5,6)]\n",
    "\n",
    "names(df2) <- c(\"Period\", \"Km travelled (thousands)\", \"Passengers Transported (millions)\", \"Energy consumed (thousands of KWH)\")\n",
    "\n",
    "require(xtable)\n",
    "\n",
    "print(xtable(head(df2)),include.rownames=FALSE,)"
   ]
  },
  {
   "cell_type": "code",
   "execution_count": 2,
   "metadata": {},
   "outputs": [
    {
     "data": {
      "text/html": [
       "<table>\n",
       "<caption>A data.frame: 6 × 6</caption>\n",
       "<thead>\n",
       "\t<tr><th></th><th scope=col>Periodo</th><th scope=col>Longitud.en.servicio..km...a</th><th scope=col>Trenes.en.servicio..b</th><th scope=col>Kilómetros.recorridos......Miles.de.kilómetros.</th><th scope=col>Pasajeros.transportados......Millones.de.pasajeros...c</th><th scope=col>Energía.eléctrica.consumida......Miles.de.KWH...d</th></tr>\n",
       "\t<tr><th></th><th scope=col>&lt;chr&gt;</th><th scope=col>&lt;chr&gt;</th><th scope=col>&lt;chr&gt;</th><th scope=col>&lt;chr&gt;</th><th scope=col>&lt;chr&gt;</th><th scope=col>&lt;chr&gt;</th></tr>\n",
       "</thead>\n",
       "<tbody>\n",
       "\t<tr><th scope=row>1</th><td>2018   </td><td>   </td><td>   </td><td>        </td><td>          </td><td>         </td></tr>\n",
       "\t<tr><th scope=row>2</th><td>Enero  </td><td>226</td><td>275</td><td>3816.458</td><td>129.101237</td><td>89340.534</td></tr>\n",
       "\t<tr><th scope=row>3</th><td>Febrero</td><td>226</td><td>275</td><td>3389.202</td><td>124.688815</td><td>80122.836</td></tr>\n",
       "\t<tr><th scope=row>4</th><td>Marzo  </td><td>226</td><td>273</td><td>3688.762</td><td>131.279527</td><td>89370.534</td></tr>\n",
       "\t<tr><th scope=row>5</th><td>Abril  </td><td>226</td><td>273</td><td>3646.12 </td><td>132.842715</td><td>84142.336</td></tr>\n",
       "\t<tr><th scope=row>6</th><td>Mayo   </td><td>226</td><td>274</td><td>3768    </td><td>135.992545</td><td>89340.534</td></tr>\n",
       "</tbody>\n",
       "</table>\n"
      ],
      "text/latex": [
       "A data.frame: 6 × 6\n",
       "\\begin{tabular}{r|llllll}\n",
       "  & Periodo & Longitud.en.servicio..km...a & Trenes.en.servicio..b & Kilómetros.recorridos......Miles.de.kilómetros. & Pasajeros.transportados......Millones.de.pasajeros...c & Energía.eléctrica.consumida......Miles.de.KWH...d\\\\\n",
       "  & <chr> & <chr> & <chr> & <chr> & <chr> & <chr>\\\\\n",
       "\\hline\n",
       "\t1 & 2018    &     &     &          &            &          \\\\\n",
       "\t2 & Enero   & 226 & 275 & 3816.458 & 129.101237 & 89340.534\\\\\n",
       "\t3 & Febrero & 226 & 275 & 3389.202 & 124.688815 & 80122.836\\\\\n",
       "\t4 & Marzo   & 226 & 273 & 3688.762 & 131.279527 & 89370.534\\\\\n",
       "\t5 & Abril   & 226 & 273 & 3646.12  & 132.842715 & 84142.336\\\\\n",
       "\t6 & Mayo    & 226 & 274 & 3768     & 135.992545 & 89340.534\\\\\n",
       "\\end{tabular}\n"
      ],
      "text/markdown": [
       "\n",
       "A data.frame: 6 × 6\n",
       "\n",
       "| <!--/--> | Periodo &lt;chr&gt; | Longitud.en.servicio..km...a &lt;chr&gt; | Trenes.en.servicio..b &lt;chr&gt; | Kilómetros.recorridos......Miles.de.kilómetros. &lt;chr&gt; | Pasajeros.transportados......Millones.de.pasajeros...c &lt;chr&gt; | Energía.eléctrica.consumida......Miles.de.KWH...d &lt;chr&gt; |\n",
       "|---|---|---|---|---|---|---|\n",
       "| 1 | 2018    | <!----> | <!----> | <!----> | <!----> | <!----> |\n",
       "| 2 | Enero   | 226 | 275 | 3816.458 | 129.101237 | 89340.534 |\n",
       "| 3 | Febrero | 226 | 275 | 3389.202 | 124.688815 | 80122.836 |\n",
       "| 4 | Marzo   | 226 | 273 | 3688.762 | 131.279527 | 89370.534 |\n",
       "| 5 | Abril   | 226 | 273 | 3646.12  | 132.842715 | 84142.336 |\n",
       "| 6 | Mayo    | 226 | 274 | 3768     | 135.992545 | 89340.534 |\n",
       "\n"
      ],
      "text/plain": [
       "  Periodo Longitud.en.servicio..km...a Trenes.en.servicio..b\n",
       "1 2018                                                      \n",
       "2 Enero   226                          275                  \n",
       "3 Febrero 226                          275                  \n",
       "4 Marzo   226                          273                  \n",
       "5 Abril   226                          273                  \n",
       "6 Mayo    226                          274                  \n",
       "  Kilómetros.recorridos......Miles.de.kilómetros.\n",
       "1                                                \n",
       "2 3816.458                                       \n",
       "3 3389.202                                       \n",
       "4 3688.762                                       \n",
       "5 3646.12                                        \n",
       "6 3768                                           \n",
       "  Pasajeros.transportados......Millones.de.pasajeros...c\n",
       "1                                                       \n",
       "2 129.101237                                            \n",
       "3 124.688815                                            \n",
       "4 131.279527                                            \n",
       "5 132.842715                                            \n",
       "6 135.992545                                            \n",
       "  Energía.eléctrica.consumida......Miles.de.KWH...d\n",
       "1                                                  \n",
       "2 89340.534                                        \n",
       "3 80122.836                                        \n",
       "4 89370.534                                        \n",
       "5 84142.336                                        \n",
       "6 89340.534                                        "
      ]
     },
     "metadata": {},
     "output_type": "display_data"
    }
   ],
   "source": [
    "head(df)"
   ]
  },
  {
   "cell_type": "markdown",
   "metadata": {},
   "source": [
    "We extract the number of passengers (```passng```) transported by month (in millions), and separate them in two vectors (```passng18```, ```passng19```) for each year"
   ]
  },
  {
   "cell_type": "code",
   "execution_count": 3,
   "metadata": {},
   "outputs": [],
   "source": [
    "passng <- df$Pasajeros.transportados"
   ]
  },
  {
   "cell_type": "code",
   "execution_count": 4,
   "metadata": {},
   "outputs": [],
   "source": [
    "passng <- passng[c(seq(2, 13,1), seq(15, 26, 1))]"
   ]
  },
  {
   "cell_type": "code",
   "execution_count": 6,
   "metadata": {},
   "outputs": [],
   "source": [
    "passng <- as.numeric(passng)"
   ]
  },
  {
   "cell_type": "code",
   "execution_count": 7,
   "metadata": {},
   "outputs": [],
   "source": [
    "passng18 <- passng[seq(1, 12, 1)]"
   ]
  },
  {
   "cell_type": "code",
   "execution_count": 8,
   "metadata": {},
   "outputs": [],
   "source": [
    "passng19 <- passng[seq(13, 24, 1)]"
   ]
  },
  {
   "cell_type": "markdown",
   "metadata": {},
   "source": [
    "Additionally, the kilometers travelled (in thousands) and energy consumed (in thousands of KWH) for each month are obtained"
   ]
  },
  {
   "cell_type": "code",
   "execution_count": 9,
   "metadata": {},
   "outputs": [],
   "source": [
    "km <- df[,4]"
   ]
  },
  {
   "cell_type": "code",
   "execution_count": 10,
   "metadata": {},
   "outputs": [],
   "source": [
    "km <- as.numeric(km[c(seq(2, 13,1), seq(15, 26, 1))])"
   ]
  },
  {
   "cell_type": "code",
   "execution_count": 11,
   "metadata": {},
   "outputs": [],
   "source": [
    "kwh <- df[,6]"
   ]
  },
  {
   "cell_type": "code",
   "execution_count": 12,
   "metadata": {},
   "outputs": [],
   "source": [
    "kwh <- kwh[c(seq(2, 13,1), seq(15, 26, 1))]"
   ]
  },
  {
   "cell_type": "code",
   "execution_count": 13,
   "metadata": {},
   "outputs": [],
   "source": [
    "kwh <- as.numeric(kwh)"
   ]
  },
  {
   "cell_type": "markdown",
   "metadata": {},
   "source": [
    "## Shapiro test\n",
    "Some of the following tests assume data comes from a normal distribution, so we first perform a shapiro test. If a $p$-value $\\geq 0.05$ is obtained, we **do not reject the null hypothesis** that the sample tested is normally distributed."
   ]
  },
  {
   "cell_type": "code",
   "execution_count": 15,
   "metadata": {},
   "outputs": [
    {
     "data": {
      "text/plain": [
       "\n",
       "\tShapiro-Wilk normality test\n",
       "\n",
       "data:  passng\n",
       "W = 0.94795, p-value = 0.2445\n"
      ]
     },
     "metadata": {},
     "output_type": "display_data"
    }
   ],
   "source": [
    "shapiro.test(passng)"
   ]
  },
  {
   "cell_type": "code",
   "execution_count": 16,
   "metadata": {},
   "outputs": [
    {
     "data": {
      "text/plain": [
       "\n",
       "\tShapiro-Wilk normality test\n",
       "\n",
       "data:  passng18\n",
       "W = 0.92669, p-value = 0.3463\n"
      ]
     },
     "metadata": {},
     "output_type": "display_data"
    }
   ],
   "source": [
    "shapiro.test(passng18)"
   ]
  },
  {
   "cell_type": "code",
   "execution_count": 17,
   "metadata": {},
   "outputs": [
    {
     "data": {
      "text/plain": [
       "\n",
       "\tShapiro-Wilk normality test\n",
       "\n",
       "data:  passng19\n",
       "W = 0.9716, p-value = 0.9268\n"
      ]
     },
     "metadata": {},
     "output_type": "display_data"
    }
   ],
   "source": [
    "shapiro.test(passng19)"
   ]
  },
  {
   "cell_type": "code",
   "execution_count": 18,
   "metadata": {},
   "outputs": [
    {
     "data": {
      "text/plain": [
       "\n",
       "\tShapiro-Wilk normality test\n",
       "\n",
       "data:  km\n",
       "W = 0.96269, p-value = 0.4949\n"
      ]
     },
     "metadata": {},
     "output_type": "display_data"
    }
   ],
   "source": [
    "shapiro.test(km)"
   ]
  },
  {
   "cell_type": "code",
   "execution_count": 19,
   "metadata": {},
   "outputs": [
    {
     "data": {
      "text/plain": [
       "\n",
       "\tShapiro-Wilk normality test\n",
       "\n",
       "data:  kwh\n",
       "W = 0.93263, p-value = 0.1116\n"
      ]
     },
     "metadata": {},
     "output_type": "display_data"
    }
   ],
   "source": [
    "shapiro.test(kwh)"
   ]
  },
  {
   "cell_type": "markdown",
   "metadata": {},
   "source": [
    "## One Sample t-Test"
   ]
  },
  {
   "cell_type": "markdown",
   "metadata": {},
   "source": [
    "Normal distribution assumed\n",
    "\n",
    "$H_0:$ True mean equals parameter ```mu```\n",
    "\n",
    "$H_1: $ True mean does not equal parameter ```mu```"
   ]
  },
  {
   "cell_type": "code",
   "execution_count": 22,
   "metadata": {},
   "outputs": [
    {
     "data": {
      "text/html": [
       "132.776470916667"
      ],
      "text/latex": [
       "132.776470916667"
      ],
      "text/markdown": [
       "132.776470916667"
      ],
      "text/plain": [
       "[1] 132.7765"
      ]
     },
     "metadata": {},
     "output_type": "display_data"
    }
   ],
   "source": [
    "mean(passng)"
   ]
  },
  {
   "cell_type": "code",
   "execution_count": 75,
   "metadata": {},
   "outputs": [
    {
     "data": {
      "text/plain": [
       "\n",
       "\tOne Sample t-test\n",
       "\n",
       "data:  passng\n",
       "t = 26.513, df = 23, p-value < 2.2e-16\n",
       "alternative hypothesis: true mean is not equal to 100\n",
       "95 percent confidence interval:\n",
       " 130.2191 135.3338\n",
       "sample estimates:\n",
       "mean of x \n",
       " 132.7765 \n"
      ]
     },
     "metadata": {},
     "output_type": "display_data"
    }
   ],
   "source": [
    "t.test(passng, mu = 100)"
   ]
  },
  {
   "cell_type": "markdown",
   "metadata": {},
   "source": [
    "A $p$-value $< 0.05$ is obtained, so we reject the null-hypothesis. "
   ]
  },
  {
   "cell_type": "markdown",
   "metadata": {},
   "source": [
    "## Wilcoxon Signed Rank Test"
   ]
  },
  {
   "cell_type": "markdown",
   "metadata": {},
   "source": [
    "Normal distribution **not** assumed\n",
    "\n",
    "$H_0:$ True mean equals parameter ```mu```\n",
    "\n",
    "$H_1: $ True mean does not equal parameter ```mu```"
   ]
  },
  {
   "cell_type": "code",
   "execution_count": 76,
   "metadata": {},
   "outputs": [
    {
     "data": {
      "text/plain": [
       "\n",
       "\tWilcoxon signed rank exact test\n",
       "\n",
       "data:  passng\n",
       "V = 300, p-value = 1.192e-07\n",
       "alternative hypothesis: true location is not equal to 100\n"
      ]
     },
     "metadata": {},
     "output_type": "display_data"
    }
   ],
   "source": [
    "wilcox.test(passng, mu=100, conf.inf=TRUE)"
   ]
  },
  {
   "cell_type": "markdown",
   "metadata": {},
   "source": [
    "A $p$-value $< 0.05$ is obtained, so we reject the null-hypothesis. "
   ]
  },
  {
   "cell_type": "markdown",
   "metadata": {},
   "source": [
    "## Wilcoxon Rank Sum Test and Two-Sample t-Test"
   ]
  },
  {
   "cell_type": "markdown",
   "metadata": {},
   "source": [
    "Wilcoxon Rank Sum Test does not assume a normal distribution\n",
    "\n",
    "$H_0 : \\mu_1 - \\mu_2 = 0$\n",
    "\n",
    "$H_1 : \\mu_1 - \\mu_2 > 0$"
   ]
  },
  {
   "cell_type": "code",
   "execution_count": 25,
   "metadata": {},
   "outputs": [
    {
     "data": {
      "text/plain": [
       "\n",
       "\tWilcoxon rank sum exact test\n",
       "\n",
       "data:  passng18 and passng19\n",
       "W = 68, p-value = 0.6006\n",
       "alternative hypothesis: true location shift is greater than 0\n"
      ]
     },
     "metadata": {},
     "output_type": "display_data"
    }
   ],
   "source": [
    "wilcox.test(passng18, passng19, alternative = \"g\")"
   ]
  },
  {
   "cell_type": "markdown",
   "metadata": {},
   "source": [
    "Since $p > .05$, we cannot reject $H_0$, and conclude the vectors have same mean.\n",
    "*******************"
   ]
  },
  {
   "cell_type": "markdown",
   "metadata": {},
   "source": [
    "Two Sample t-Test assumes a normal distribution.\n",
    "\n",
    "$H_0 : \\mu_1 - \\mu_2 = 0$\n",
    "\n",
    "$H_1 : \\mu_1 - \\mu_2 \\neq 0$"
   ]
  },
  {
   "cell_type": "code",
   "execution_count": 26,
   "metadata": {},
   "outputs": [
    {
     "data": {
      "text/plain": [
       "\n",
       "\tWelch Two Sample t-test\n",
       "\n",
       "data:  passng18 and passng19\n",
       "t = -0.087937, df = 21.716, p-value = 0.9307\n",
       "alternative hypothesis: true difference in means is not equal to 0\n",
       "95 percent confidence interval:\n",
       " -5.468207  5.023664\n",
       "sample estimates:\n",
       "mean of x mean of y \n",
       " 132.6653  132.8876 \n"
      ]
     },
     "metadata": {},
     "output_type": "display_data"
    }
   ],
   "source": [
    "t.test(passng18, y=passng19)"
   ]
  },
  {
   "cell_type": "markdown",
   "metadata": {},
   "source": [
    "Since $p > .05$, we cannot reject $H_0$, and conclude the vectors have same mean."
   ]
  },
  {
   "cell_type": "markdown",
   "metadata": {},
   "source": [
    "## Kolmogorov Smirnov Test"
   ]
  },
  {
   "cell_type": "markdown",
   "metadata": {},
   "source": [
    "$H_0: $ Samples are drawn from the same distribution\n"
   ]
  },
  {
   "cell_type": "code",
   "execution_count": 27,
   "metadata": {},
   "outputs": [
    {
     "data": {
      "text/plain": [
       "\n",
       "\tTwo-sample Kolmogorov-Smirnov test\n",
       "\n",
       "data:  passng18 and passng19\n",
       "D = 0.16667, p-value = 0.9985\n",
       "alternative hypothesis: two-sided\n"
      ]
     },
     "metadata": {},
     "output_type": "display_data"
    }
   ],
   "source": [
    "ks.test(passng18, passng19)"
   ]
  },
  {
   "cell_type": "markdown",
   "metadata": {},
   "source": [
    "Since $p \\geq 0.05$, null hypothesis is not rejected. We conclude samples come from same distribution"
   ]
  },
  {
   "cell_type": "markdown",
   "metadata": {},
   "source": [
    "## Fisher's F-Test"
   ]
  },
  {
   "cell_type": "markdown",
   "metadata": {},
   "source": [
    "$H_0: $ Ratio of variance is 1 ($\\frac{\\mathrm{Var}(x)}{ \\mathrm{Var}(y) } = 1$)"
   ]
  },
  {
   "cell_type": "code",
   "execution_count": 28,
   "metadata": {},
   "outputs": [
    {
     "data": {
      "text/plain": [
       "\n",
       "\tF test to compare two variances\n",
       "\n",
       "data:  passng and km\n",
       "F = 0.0015576, num df = 23, denom df = 23, p-value < 2.2e-16\n",
       "alternative hypothesis: true ratio of variances is not equal to 1\n",
       "95 percent confidence interval:\n",
       " 0.0006738075 0.0036006134\n",
       "sample estimates:\n",
       "ratio of variances \n",
       "       0.001557601 \n"
      ]
     },
     "metadata": {},
     "output_type": "display_data"
    }
   ],
   "source": [
    "var.test(passng, km)"
   ]
  },
  {
   "cell_type": "markdown",
   "metadata": {},
   "source": [
    "Since $p = 2.2 \\times 10^{-16} < 0.05$, we reject the null hypothesis, concluding data has different variance"
   ]
  },
  {
   "cell_type": "markdown",
   "metadata": {},
   "source": [
    "## Chi Squared Test"
   ]
  },
  {
   "cell_type": "code",
   "execution_count": 91,
   "metadata": {},
   "outputs": [
    {
     "data": {
      "text/plain": [
       "\n",
       "\tPearson's Chi-squared test\n",
       "\n",
       "data:  table(df2$cat_x, df2$cat_y)\n",
       "X-squared = 1.5105, df = 1, p-value = 0.2191\n"
      ]
     },
     "metadata": {},
     "output_type": "display_data"
    }
   ],
   "source": [
    "df2 <- data.frame(km, kwh)\n",
    "\n",
    "df2$cat_x <- (df2$km < median(km))\n",
    "\n",
    "df2$cat_y <- (df2$kwh < median(kwh))\n",
    "\n",
    "chisq.test(table(df2$cat_x, df2$cat_y), correct = FALSE)  "
   ]
  },
  {
   "cell_type": "code",
   "execution_count": 77,
   "metadata": {},
   "outputs": [],
   "source": [
    "df3 <- data.frame(km, passng)"
   ]
  },
  {
   "cell_type": "code",
   "execution_count": 79,
   "metadata": {},
   "outputs": [],
   "source": [
    "df3$cat_x <- (df3$km < median(km))"
   ]
  },
  {
   "cell_type": "code",
   "execution_count": 80,
   "metadata": {},
   "outputs": [],
   "source": [
    "df3$cat_y <- (df3$passng < median(passng))"
   ]
  },
  {
   "cell_type": "code",
   "execution_count": 81,
   "metadata": {},
   "outputs": [
    {
     "data": {
      "text/plain": [
       "\n",
       "\tPearson's Chi-squared test\n",
       "\n",
       "data:  table(df3$cat_x, df3$cat_y)\n",
       "X-squared = 2.6667, df = 1, p-value = 0.1025\n"
      ]
     },
     "metadata": {},
     "output_type": "display_data"
    }
   ],
   "source": [
    "chisq.test(table(df3$cat_x, df3$cat_y), correct=FALSE)"
   ]
  },
  {
   "cell_type": "markdown",
   "metadata": {},
   "source": [
    "## Correlation"
   ]
  },
  {
   "cell_type": "markdown",
   "metadata": {},
   "source": [
    "$H_0: $ Correlation is equal to zero"
   ]
  },
  {
   "cell_type": "code",
   "execution_count": 56,
   "metadata": {},
   "outputs": [
    {
     "data": {
      "text/html": [
       "0.576649134594174"
      ],
      "text/latex": [
       "0.576649134594174"
      ],
      "text/markdown": [
       "0.576649134594174"
      ],
      "text/plain": [
       "[1] 0.5766491"
      ]
     },
     "metadata": {},
     "output_type": "display_data"
    }
   ],
   "source": [
    "cor(km, passng)"
   ]
  },
  {
   "cell_type": "code",
   "execution_count": 35,
   "metadata": {},
   "outputs": [
    {
     "data": {
      "text/plain": [
       "\n",
       "\tPearson's product-moment correlation\n",
       "\n",
       "data:  km and passng\n",
       "t = 3.3106, df = 22, p-value = 0.003181\n",
       "alternative hypothesis: true correlation is not equal to 0\n",
       "95 percent confidence interval:\n",
       " 0.2257709 0.7950927\n",
       "sample estimates:\n",
       "      cor \n",
       "0.5766491 \n"
      ]
     },
     "metadata": {},
     "output_type": "display_data"
    }
   ],
   "source": [
    "cor.test(km, passng)"
   ]
  },
  {
   "cell_type": "markdown",
   "metadata": {},
   "source": [
    "Since $p = 0.003 < 0.05$, we reject the null-hypothesis, and accept the alternative: true correlation is not equal to zero."
   ]
  },
  {
   "cell_type": "code",
   "execution_count": 93,
   "metadata": {},
   "outputs": [
    {
     "data": {
      "image/png": "[encoded data removed]",
      "text/plain": [
       "plot without title"
      ]
     },
     "metadata": {
      "image/png": {
       "height": 420,
       "width": 420
      }
     },
     "output_type": "display_data"
    }
   ],
   "source": [
    "plot(x=km, y=passng, col=\"red\", ylab=\"Passengers (millions)\", xlab=\"Kilometers traveled\")"
   ]
  },
  {
   "cell_type": "code",
   "execution_count": 94,
   "metadata": {},
   "outputs": [
    {
     "data": {
      "text/html": [
       "<strong>pdf:</strong> 2"
      ],
      "text/latex": [
       "\\textbf{pdf:} 2"
      ],
      "text/markdown": [
       "**pdf:** 2"
      ],
      "text/plain": [
       "pdf \n",
       "  2 "
      ]
     },
     "metadata": {},
     "output_type": "display_data"
    }
   ],
   "source": [
    "png(filename=\"correlation_km_passng.png\", height=2000, width=2000, res=400)\n",
    "plot(x=km, y=passng, col=\"red\", ylab=\"Passengers (millions)\", xlab=\"Kilometers traveled\")\n",
    "dev.off()"
   ]
  },
  {
   "cell_type": "code",
   "execution_count": null,
   "metadata": {},
   "outputs": [],
   "source": []
  }
 ],
 "metadata": {
  "kernelspec": {
   "display_name": "R",
   "language": "R",
   "name": "ir"
  },
  "language_info": {
   "codemirror_mode": "r",
   "file_extension": ".r",
   "mimetype": "text/x-r-source",
   "name": "R",
   "pygments_lexer": "r",
   "version": "4.0.0"
  }
 },
 "nbformat": 4,
 "nbformat_minor": 4
}
