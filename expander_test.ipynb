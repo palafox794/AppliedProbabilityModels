{
 "cells": [
  {
   "cell_type": "code",
   "execution_count": 14,
   "metadata": {},
   "outputs": [
    {
     "data": {
      "text/plain": [
       "               _                           \n",
       "platform       x86_64-apple-darwin17.0     \n",
       "arch           x86_64                      \n",
       "os             darwin17.0                  \n",
       "system         x86_64, darwin17.0          \n",
       "status                                     \n",
       "major          4                           \n",
       "minor          0.0                         \n",
       "year           2020                        \n",
       "month          04                          \n",
       "day            24                          \n",
       "svn rev        78286                       \n",
       "language       R                           \n",
       "version.string R version 4.0.0 (2020-04-24)\n",
       "nickname       Arbor Day                   "
      ]
     },
     "metadata": {},
     "output_type": "display_data"
    }
   ],
   "source": [
    "R.version"
   ]
  },
  {
   "cell_type": "markdown",
   "metadata": {},
   "source": [
    "## The Expander test\n",
    "The following is based on the pre-print by Stefan Steinerberger *Using expander graphs to test whether samples are I.I.D.* ( https://arxiv.org/pdf/2008.01153.pdf )\n",
    "Given a sequence $x_1, \\dots, x_n$, a specific graph $G$ associated to this sequence is generated. The adjacency matrix of this graph has eigen values $\\lambda_1 > \\lambda_2 > \\dots > \\lambda_n$. We compute $\\lambda = \\max\\lbrace \\lambda_2, \\lambda_n\\rbrace$. The larger $\\lambda - 2 \\sqrt{3}$ is, the less likely the sequence is to be random"
   ]
  },
  {
   "cell_type": "code",
   "execution_count": 1,
   "metadata": {},
   "outputs": [
    {
     "name": "stderr",
     "output_type": "stream",
     "text": [
      "Loading required package: igraph\n",
      "\n",
      "Warning message:\n",
      "“package ‘igraph’ was built under R version 4.0.2”\n",
      "\n",
      "Attaching package: ‘igraph’\n",
      "\n",
      "\n",
      "The following objects are masked from ‘package:stats’:\n",
      "\n",
      "    decompose, spectrum\n",
      "\n",
      "\n",
      "The following object is masked from ‘package:base’:\n",
      "\n",
      "    union\n",
      "\n",
      "\n"
     ]
    }
   ],
   "source": [
    "require(igraph)"
   ]
  },
  {
   "cell_type": "markdown",
   "metadata": {},
   "source": [
    "Here we construct the 4-regular graph associated to our data (read abstract or introduction of the pre-print to see how this is built). "
   ]
  },
  {
   "cell_type": "code",
   "execution_count": 2,
   "metadata": {},
   "outputs": [],
   "source": [
    "construct_graph <- function(x){\n",
    "    n <- length(x)\n",
    "    g <- make_empty_graph(n = n)\n",
    "    \n",
    "    g <- add_edges(g, c(n, 1))\n",
    "    for (i in 1:(n-1)){\n",
    "        g <- add_edges(g, c(i, i+1))\n",
    "    }\n",
    "    \n",
    "    g <- add_edges(g, c(order(x)[n], order(x)[1]))\n",
    "    for (i in 1:(n-1)){\n",
    "        g <- add_edges(g, c(order(x)[i], order(x)[i+1]))\n",
    "    }\n",
    "    \n",
    "    g <- as.undirected(g, mode=\"each\")\n",
    "    \n",
    "    return(g)\n",
    "}"
   ]
  },
  {
   "cell_type": "markdown",
   "metadata": {},
   "source": [
    "Next we calculate the desired $\\lambda$"
   ]
  },
  {
   "cell_type": "code",
   "execution_count": 3,
   "metadata": {},
   "outputs": [],
   "source": [
    "lambda <- function(g){\n",
    "    evalues <- eigen(as_adjacency_matrix(g), only.values=TRUE)$values\n",
    "    evalues <- sort(evalues, decreasing = TRUE)\n",
    "    a <- abs(evalues[2])\n",
    "    b <- abs(tail(evalues, 1))\n",
    "    lambda <- max(a, b)\n",
    "    return(lambda)\n",
    "}"
   ]
  },
  {
   "cell_type": "markdown",
   "metadata": {},
   "source": [
    "We wrap it up in a function which tell the difference between our $\\lambda$ and $2 \\sqrt{3}$. "
   ]
  },
  {
   "cell_type": "code",
   "execution_count": 11,
   "metadata": {},
   "outputs": [],
   "source": [
    "deviation <- function(x){\n",
    "    g <- construct_graph(x)\n",
    "    l <- lambda(g)\n",
    "    return(abs(l - 2*sqrt(3)))\n",
    "}"
   ]
  },
  {
   "cell_type": "markdown",
   "metadata": {},
   "source": [
    "We test it with \"bad\" data: a congruential generator by Lehmer, and numbers coming from distinct distributions."
   ]
  },
  {
   "cell_type": "code",
   "execution_count": 15,
   "metadata": {},
   "outputs": [],
   "source": [
    "value <- 47594118\n",
    "\n",
    "lehmer <- c(value)\n",
    "\n",
    "for(i in 1:499){\n",
    "    value <- (23*value) %%( 10**8 + 1)\n",
    "    lehmer <- c(lehmer, value)\n",
    "}"
   ]
  },
  {
   "cell_type": "code",
   "execution_count": 16,
   "metadata": {},
   "outputs": [
    {
     "data": {
      "text/html": [
       "0.0840518073679712"
      ],
      "text/latex": [
       "0.0840518073679712"
      ],
      "text/markdown": [
       "0.0840518073679712"
      ],
      "text/plain": [
       "[1] 0.08405181"
      ]
     },
     "metadata": {},
     "output_type": "display_data"
    }
   ],
   "source": [
    "deviation(lehmer)"
   ]
  },
  {
   "cell_type": "code",
   "execution_count": 23,
   "metadata": {},
   "outputs": [],
   "source": [
    "x <- c(rnorm(100), runif(100), rpois(100,lambda = 1), rgeom(100, prob = 1), rexp(100))"
   ]
  },
  {
   "cell_type": "code",
   "execution_count": 24,
   "metadata": {},
   "outputs": [
    {
     "data": {
      "text/html": [
       "0.534032222725397"
      ],
      "text/latex": [
       "0.534032222725397"
      ],
      "text/markdown": [
       "0.534032222725397"
      ],
      "text/plain": [
       "[1] 0.5340322"
      ]
     },
     "metadata": {},
     "output_type": "display_data"
    }
   ],
   "source": [
    "deviation(x)"
   ]
  },
  {
   "cell_type": "markdown",
   "metadata": {},
   "source": [
    "We test it with numbers coming from the same distribution:"
   ]
  },
  {
   "cell_type": "code",
   "execution_count": 25,
   "metadata": {},
   "outputs": [
    {
     "data": {
      "text/html": [
       "0.00100976703301559"
      ],
      "text/latex": [
       "0.00100976703301559"
      ],
      "text/markdown": [
       "0.00100976703301559"
      ],
      "text/plain": [
       "[1] 0.001009767"
      ]
     },
     "metadata": {},
     "output_type": "display_data"
    }
   ],
   "source": [
    "deviation(rnorm(1000))"
   ]
  },
  {
   "cell_type": "code",
   "execution_count": 26,
   "metadata": {},
   "outputs": [
    {
     "data": {
      "text/html": [
       "0.00179386347985178"
      ],
      "text/latex": [
       "0.00179386347985178"
      ],
      "text/markdown": [
       "0.00179386347985178"
      ],
      "text/plain": [
       "[1] 0.001793863"
      ]
     },
     "metadata": {},
     "output_type": "display_data"
    }
   ],
   "source": [
    "deviation(runif(1000))"
   ]
  },
  {
   "cell_type": "code",
   "execution_count": null,
   "metadata": {},
   "outputs": [],
   "source": [
    "rpois(10, lam)"
   ]
  }
 ],
 "metadata": {
  "kernelspec": {
   "display_name": "R",
   "language": "R",
   "name": "ir"
  },
  "language_info": {
   "codemirror_mode": "r",
   "file_extension": ".r",
   "mimetype": "text/x-r-source",
   "name": "R",
   "pygments_lexer": "r",
   "version": "4.0.0"
  }
 },
 "nbformat": 4,
 "nbformat_minor": 4
}
