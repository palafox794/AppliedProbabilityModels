{
 "cells": [
  {
   "cell_type": "code",
   "execution_count": 1,
   "metadata": {},
   "outputs": [],
   "source": [
    "library(rlist)"
   ]
  },
  {
   "cell_type": "code",
   "execution_count": 14,
   "metadata": {},
   "outputs": [],
   "source": [
    "Ts <- rexp(n = 1e5, rate = 5)"
   ]
  },
  {
   "cell_type": "code",
   "execution_count": 15,
   "metadata": {},
   "outputs": [
    {
     "data": {
      "text/html": [
       "20041.4656270353"
      ],
      "text/latex": [
       "20041.4656270353"
      ],
      "text/markdown": [
       "20041.4656270353"
      ],
      "text/plain": [
       "[1] 20041.47"
      ]
     },
     "metadata": {},
     "output_type": "display_data"
    }
   ],
   "source": [
    "sum(Ts)"
   ]
  },
  {
   "cell_type": "code",
   "execution_count": 16,
   "metadata": {},
   "outputs": [
    {
     "data": {
      "text/html": [
       "0.200414656270353"
      ],
      "text/latex": [
       "0.200414656270353"
      ],
      "text/markdown": [
       "0.200414656270353"
      ],
      "text/plain": [
       "[1] 0.2004147"
      ]
     },
     "metadata": {},
     "output_type": "display_data"
    }
   ],
   "source": [
    "mean(Ts)"
   ]
  },
  {
   "cell_type": "code",
   "execution_count": 19,
   "metadata": {},
   "outputs": [
    {
     "data": {
      "text/html": [
       "1.40788488939644"
      ],
      "text/latex": [
       "1.40788488939644"
      ],
      "text/markdown": [
       "1.40788488939644"
      ],
      "text/plain": [
       "[1] 1.407885"
      ]
     },
     "metadata": {},
     "output_type": "display_data"
    }
   ],
   "source": [
    "sum(Ts[1:9])"
   ]
  },
  {
   "cell_type": "code",
   "execution_count": 17,
   "metadata": {},
   "outputs": [
    {
     "data": {
      "text/html": [
       "1.92010307451292"
      ],
      "text/latex": [
       "1.92010307451292"
      ],
      "text/markdown": [
       "1.92010307451292"
      ],
      "text/plain": [
       "[1] 1.920103"
      ]
     },
     "metadata": {},
     "output_type": "display_data"
    }
   ],
   "source": [
    "sum(Ts[1:10])"
   ]
  },
  {
   "cell_type": "code",
   "execution_count": 7,
   "metadata": {},
   "outputs": [],
   "source": [
    "Nt <- function(t){\n",
    "    if (t < Ts[1]){\n",
    "        return(0)\n",
    "    }\n",
    "    else{\n",
    "    suma <- 0\n",
    "    i <- 1\n",
    "    while(suma <= t){\n",
    "        i <- i+1\n",
    "        suma <- sum(Ts[1:i])\n",
    "    }\n",
    "        return(i-1)\n",
    "        }\n",
    "}"
   ]
  },
  {
   "cell_type": "code",
   "execution_count": 23,
   "metadata": {},
   "outputs": [
    {
     "data": {
      "text/html": [
       "4.98965504125124"
      ],
      "text/latex": [
       "4.98965504125124"
      ],
      "text/markdown": [
       "4.98965504125124"
      ],
      "text/plain": [
       "[1] 4.989655"
      ]
     },
     "metadata": {},
     "output_type": "display_data"
    }
   ],
   "source": [
    "1/mean(Ts)"
   ]
  },
  {
   "cell_type": "code",
   "execution_count": 46,
   "metadata": {},
   "outputs": [],
   "source": [
    "tes <- seq(1e3, 2e4, by=200)"
   ]
  },
  {
   "cell_type": "code",
   "execution_count": 47,
   "metadata": {},
   "outputs": [],
   "source": [
    "NT <- numeric()"
   ]
  },
  {
   "cell_type": "code",
   "execution_count": 48,
   "metadata": {},
   "outputs": [],
   "source": [
    "for (t in tes){\n",
    "    NT <- c(NT, Nt(t)/t)\n",
    "}"
   ]
  },
  {
   "cell_type": "code",
   "execution_count": 49,
   "metadata": {},
   "outputs": [],
   "source": [
    "df <- data.frame(tes, NT)"
   ]
  },
  {
   "cell_type": "code",
   "execution_count": 50,
   "metadata": {},
   "outputs": [
    {
     "data": {
      "text/html": [
       "<table>\n",
       "<caption>A data.frame: 96 × 2</caption>\n",
       "<thead>\n",
       "\t<tr><th scope=col>tes</th><th scope=col>NT</th></tr>\n",
       "\t<tr><th scope=col>&lt;dbl&gt;</th><th scope=col>&lt;dbl&gt;</th></tr>\n",
       "</thead>\n",
       "<tbody>\n",
       "\t<tr><td>1000</td><td>5.013000</td></tr>\n",
       "\t<tr><td>1200</td><td>4.996667</td></tr>\n",
       "\t<tr><td>1400</td><td>4.982857</td></tr>\n",
       "\t<tr><td>1600</td><td>4.955625</td></tr>\n",
       "\t<tr><td>1800</td><td>4.975000</td></tr>\n",
       "\t<tr><td>2000</td><td>4.967500</td></tr>\n",
       "\t<tr><td>2200</td><td>4.969545</td></tr>\n",
       "\t<tr><td>2400</td><td>4.950417</td></tr>\n",
       "\t<tr><td>2600</td><td>4.949231</td></tr>\n",
       "\t<tr><td>2800</td><td>4.966786</td></tr>\n",
       "\t<tr><td>3000</td><td>4.952000</td></tr>\n",
       "\t<tr><td>3200</td><td>4.939063</td></tr>\n",
       "\t<tr><td>3400</td><td>4.946471</td></tr>\n",
       "\t<tr><td>3600</td><td>4.949167</td></tr>\n",
       "\t<tr><td>3800</td><td>4.949211</td></tr>\n",
       "\t<tr><td>4000</td><td>4.949750</td></tr>\n",
       "\t<tr><td>4200</td><td>4.960952</td></tr>\n",
       "\t<tr><td>4400</td><td>4.962500</td></tr>\n",
       "\t<tr><td>4600</td><td>4.954348</td></tr>\n",
       "\t<tr><td>4800</td><td>4.967500</td></tr>\n",
       "\t<tr><td>5000</td><td>4.968000</td></tr>\n",
       "\t<tr><td>5200</td><td>4.967885</td></tr>\n",
       "\t<tr><td>5400</td><td>4.971667</td></tr>\n",
       "\t<tr><td>5600</td><td>4.980000</td></tr>\n",
       "\t<tr><td>5800</td><td>4.975000</td></tr>\n",
       "\t<tr><td>6000</td><td>4.979167</td></tr>\n",
       "\t<tr><td>6200</td><td>4.979839</td></tr>\n",
       "\t<tr><td>6400</td><td>4.982500</td></tr>\n",
       "\t<tr><td>6600</td><td>4.975455</td></tr>\n",
       "\t<tr><td>6800</td><td>4.988676</td></tr>\n",
       "\t<tr><td>⋮</td><td>⋮</td></tr>\n",
       "\t<tr><td>14200</td><td>4.994366</td></tr>\n",
       "\t<tr><td>14400</td><td>4.989653</td></tr>\n",
       "\t<tr><td>14600</td><td>4.988219</td></tr>\n",
       "\t<tr><td>14800</td><td>4.985878</td></tr>\n",
       "\t<tr><td>15000</td><td>4.984933</td></tr>\n",
       "\t<tr><td>15200</td><td>4.987171</td></tr>\n",
       "\t<tr><td>15400</td><td>4.986753</td></tr>\n",
       "\t<tr><td>15600</td><td>4.983846</td></tr>\n",
       "\t<tr><td>15800</td><td>4.985190</td></tr>\n",
       "\t<tr><td>16000</td><td>4.981000</td></tr>\n",
       "\t<tr><td>16200</td><td>4.981420</td></tr>\n",
       "\t<tr><td>16400</td><td>4.979207</td></tr>\n",
       "\t<tr><td>16600</td><td>4.980723</td></tr>\n",
       "\t<tr><td>16800</td><td>4.981607</td></tr>\n",
       "\t<tr><td>17000</td><td>4.982294</td></tr>\n",
       "\t<tr><td>17200</td><td>4.982326</td></tr>\n",
       "\t<tr><td>17400</td><td>4.985632</td></tr>\n",
       "\t<tr><td>17600</td><td>4.984716</td></tr>\n",
       "\t<tr><td>17800</td><td>4.986180</td></tr>\n",
       "\t<tr><td>18000</td><td>4.987167</td></tr>\n",
       "\t<tr><td>18200</td><td>4.987527</td></tr>\n",
       "\t<tr><td>18400</td><td>4.987880</td></tr>\n",
       "\t<tr><td>18600</td><td>4.986935</td></tr>\n",
       "\t<tr><td>18800</td><td>4.987766</td></tr>\n",
       "\t<tr><td>19000</td><td>4.988105</td></tr>\n",
       "\t<tr><td>19200</td><td>4.988333</td></tr>\n",
       "\t<tr><td>19400</td><td>4.986753</td></tr>\n",
       "\t<tr><td>19600</td><td>4.986327</td></tr>\n",
       "\t<tr><td>19800</td><td>4.985808</td></tr>\n",
       "\t<tr><td>20000</td><td>4.989900</td></tr>\n",
       "</tbody>\n",
       "</table>\n"
      ],
      "text/latex": [
       "A data.frame: 96 × 2\n",
       "\\begin{tabular}{ll}\n",
       " tes & NT\\\\\n",
       " <dbl> & <dbl>\\\\\n",
       "\\hline\n",
       "\t 1000 & 5.013000\\\\\n",
       "\t 1200 & 4.996667\\\\\n",
       "\t 1400 & 4.982857\\\\\n",
       "\t 1600 & 4.955625\\\\\n",
       "\t 1800 & 4.975000\\\\\n",
       "\t 2000 & 4.967500\\\\\n",
       "\t 2200 & 4.969545\\\\\n",
       "\t 2400 & 4.950417\\\\\n",
       "\t 2600 & 4.949231\\\\\n",
       "\t 2800 & 4.966786\\\\\n",
       "\t 3000 & 4.952000\\\\\n",
       "\t 3200 & 4.939063\\\\\n",
       "\t 3400 & 4.946471\\\\\n",
       "\t 3600 & 4.949167\\\\\n",
       "\t 3800 & 4.949211\\\\\n",
       "\t 4000 & 4.949750\\\\\n",
       "\t 4200 & 4.960952\\\\\n",
       "\t 4400 & 4.962500\\\\\n",
       "\t 4600 & 4.954348\\\\\n",
       "\t 4800 & 4.967500\\\\\n",
       "\t 5000 & 4.968000\\\\\n",
       "\t 5200 & 4.967885\\\\\n",
       "\t 5400 & 4.971667\\\\\n",
       "\t 5600 & 4.980000\\\\\n",
       "\t 5800 & 4.975000\\\\\n",
       "\t 6000 & 4.979167\\\\\n",
       "\t 6200 & 4.979839\\\\\n",
       "\t 6400 & 4.982500\\\\\n",
       "\t 6600 & 4.975455\\\\\n",
       "\t 6800 & 4.988676\\\\\n",
       "\t ⋮ & ⋮\\\\\n",
       "\t 14200 & 4.994366\\\\\n",
       "\t 14400 & 4.989653\\\\\n",
       "\t 14600 & 4.988219\\\\\n",
       "\t 14800 & 4.985878\\\\\n",
       "\t 15000 & 4.984933\\\\\n",
       "\t 15200 & 4.987171\\\\\n",
       "\t 15400 & 4.986753\\\\\n",
       "\t 15600 & 4.983846\\\\\n",
       "\t 15800 & 4.985190\\\\\n",
       "\t 16000 & 4.981000\\\\\n",
       "\t 16200 & 4.981420\\\\\n",
       "\t 16400 & 4.979207\\\\\n",
       "\t 16600 & 4.980723\\\\\n",
       "\t 16800 & 4.981607\\\\\n",
       "\t 17000 & 4.982294\\\\\n",
       "\t 17200 & 4.982326\\\\\n",
       "\t 17400 & 4.985632\\\\\n",
       "\t 17600 & 4.984716\\\\\n",
       "\t 17800 & 4.986180\\\\\n",
       "\t 18000 & 4.987167\\\\\n",
       "\t 18200 & 4.987527\\\\\n",
       "\t 18400 & 4.987880\\\\\n",
       "\t 18600 & 4.986935\\\\\n",
       "\t 18800 & 4.987766\\\\\n",
       "\t 19000 & 4.988105\\\\\n",
       "\t 19200 & 4.988333\\\\\n",
       "\t 19400 & 4.986753\\\\\n",
       "\t 19600 & 4.986327\\\\\n",
       "\t 19800 & 4.985808\\\\\n",
       "\t 20000 & 4.989900\\\\\n",
       "\\end{tabular}\n"
      ],
      "text/markdown": [
       "\n",
       "A data.frame: 96 × 2\n",
       "\n",
       "| tes &lt;dbl&gt; | NT &lt;dbl&gt; |\n",
       "|---|---|\n",
       "| 1000 | 5.013000 |\n",
       "| 1200 | 4.996667 |\n",
       "| 1400 | 4.982857 |\n",
       "| 1600 | 4.955625 |\n",
       "| 1800 | 4.975000 |\n",
       "| 2000 | 4.967500 |\n",
       "| 2200 | 4.969545 |\n",
       "| 2400 | 4.950417 |\n",
       "| 2600 | 4.949231 |\n",
       "| 2800 | 4.966786 |\n",
       "| 3000 | 4.952000 |\n",
       "| 3200 | 4.939063 |\n",
       "| 3400 | 4.946471 |\n",
       "| 3600 | 4.949167 |\n",
       "| 3800 | 4.949211 |\n",
       "| 4000 | 4.949750 |\n",
       "| 4200 | 4.960952 |\n",
       "| 4400 | 4.962500 |\n",
       "| 4600 | 4.954348 |\n",
       "| 4800 | 4.967500 |\n",
       "| 5000 | 4.968000 |\n",
       "| 5200 | 4.967885 |\n",
       "| 5400 | 4.971667 |\n",
       "| 5600 | 4.980000 |\n",
       "| 5800 | 4.975000 |\n",
       "| 6000 | 4.979167 |\n",
       "| 6200 | 4.979839 |\n",
       "| 6400 | 4.982500 |\n",
       "| 6600 | 4.975455 |\n",
       "| 6800 | 4.988676 |\n",
       "| ⋮ | ⋮ |\n",
       "| 14200 | 4.994366 |\n",
       "| 14400 | 4.989653 |\n",
       "| 14600 | 4.988219 |\n",
       "| 14800 | 4.985878 |\n",
       "| 15000 | 4.984933 |\n",
       "| 15200 | 4.987171 |\n",
       "| 15400 | 4.986753 |\n",
       "| 15600 | 4.983846 |\n",
       "| 15800 | 4.985190 |\n",
       "| 16000 | 4.981000 |\n",
       "| 16200 | 4.981420 |\n",
       "| 16400 | 4.979207 |\n",
       "| 16600 | 4.980723 |\n",
       "| 16800 | 4.981607 |\n",
       "| 17000 | 4.982294 |\n",
       "| 17200 | 4.982326 |\n",
       "| 17400 | 4.985632 |\n",
       "| 17600 | 4.984716 |\n",
       "| 17800 | 4.986180 |\n",
       "| 18000 | 4.987167 |\n",
       "| 18200 | 4.987527 |\n",
       "| 18400 | 4.987880 |\n",
       "| 18600 | 4.986935 |\n",
       "| 18800 | 4.987766 |\n",
       "| 19000 | 4.988105 |\n",
       "| 19200 | 4.988333 |\n",
       "| 19400 | 4.986753 |\n",
       "| 19600 | 4.986327 |\n",
       "| 19800 | 4.985808 |\n",
       "| 20000 | 4.989900 |\n",
       "\n"
      ],
      "text/plain": [
       "   tes   NT      \n",
       "1  1000  5.013000\n",
       "2  1200  4.996667\n",
       "3  1400  4.982857\n",
       "4  1600  4.955625\n",
       "5  1800  4.975000\n",
       "6  2000  4.967500\n",
       "7  2200  4.969545\n",
       "8  2400  4.950417\n",
       "9  2600  4.949231\n",
       "10 2800  4.966786\n",
       "11 3000  4.952000\n",
       "12 3200  4.939063\n",
       "13 3400  4.946471\n",
       "14 3600  4.949167\n",
       "15 3800  4.949211\n",
       "16 4000  4.949750\n",
       "17 4200  4.960952\n",
       "18 4400  4.962500\n",
       "19 4600  4.954348\n",
       "20 4800  4.967500\n",
       "21 5000  4.968000\n",
       "22 5200  4.967885\n",
       "23 5400  4.971667\n",
       "24 5600  4.980000\n",
       "25 5800  4.975000\n",
       "26 6000  4.979167\n",
       "27 6200  4.979839\n",
       "28 6400  4.982500\n",
       "29 6600  4.975455\n",
       "30 6800  4.988676\n",
       "⋮  ⋮     ⋮       \n",
       "67 14200 4.994366\n",
       "68 14400 4.989653\n",
       "69 14600 4.988219\n",
       "70 14800 4.985878\n",
       "71 15000 4.984933\n",
       "72 15200 4.987171\n",
       "73 15400 4.986753\n",
       "74 15600 4.983846\n",
       "75 15800 4.985190\n",
       "76 16000 4.981000\n",
       "77 16200 4.981420\n",
       "78 16400 4.979207\n",
       "79 16600 4.980723\n",
       "80 16800 4.981607\n",
       "81 17000 4.982294\n",
       "82 17200 4.982326\n",
       "83 17400 4.985632\n",
       "84 17600 4.984716\n",
       "85 17800 4.986180\n",
       "86 18000 4.987167\n",
       "87 18200 4.987527\n",
       "88 18400 4.987880\n",
       "89 18600 4.986935\n",
       "90 18800 4.987766\n",
       "91 19000 4.988105\n",
       "92 19200 4.988333\n",
       "93 19400 4.986753\n",
       "94 19600 4.986327\n",
       "95 19800 4.985808\n",
       "96 20000 4.989900"
      ]
     },
     "metadata": {},
     "output_type": "display_data"
    }
   ],
   "source": [
    "df"
   ]
  },
  {
   "cell_type": "code",
   "execution_count": 63,
   "metadata": {},
   "outputs": [
    {
     "data": {
      "image/png": "[encoded data removed]",
      "text/plain": [
       "plot without title"
      ]
     },
     "metadata": {
      "image/png": {
       "height": 420,
       "width": 420
      }
     },
     "output_type": "display_data"
    }
   ],
   "source": [
    "plot(df, xlab=\"t\", ylab=\"Nt / t\", col=\"cornflowerblue\", type=\"b\")\n",
    "abline(h=1/mean(Ts), col=\"gold3\")"
   ]
  },
  {
   "cell_type": "code",
   "execution_count": 64,
   "metadata": {},
   "outputs": [
    {
     "data": {
      "text/html": [
       "<strong>pdf:</strong> 2"
      ],
      "text/latex": [
       "\\textbf{pdf:} 2"
      ],
      "text/markdown": [
       "**pdf:** 2"
      ],
      "text/plain": [
       "pdf \n",
       "  2 "
      ]
     },
     "metadata": {},
     "output_type": "display_data"
    }
   ],
   "source": [
    "png(filename=\"lln.png\", height=2000, width=2000, res=400)\n",
    "plot(df, xlab=\"t\", ylab=\"Nt / t\", col=\"cornflowerblue\", type=\"b\")\n",
    "abline(h=1/mean(Ts), col=\"gold3\")\n",
    "dev.off()"
   ]
  },
  {
   "cell_type": "code",
   "execution_count": null,
   "metadata": {},
   "outputs": [],
   "source": []
  }
 ],
 "metadata": {
  "kernelspec": {
   "display_name": "R",
   "language": "R",
   "name": "ir"
  },
  "language_info": {
   "codemirror_mode": "r",
   "file_extension": ".r",
   "mimetype": "text/x-r-source",
   "name": "R",
   "pygments_lexer": "r",
   "version": "4.0.0"
  }
 },
 "nbformat": 4,
 "nbformat_minor": 4
}
